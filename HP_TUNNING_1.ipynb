{
  "nbformat": 4,
  "nbformat_minor": 0,
  "metadata": {
    "colab": {
      "provenance": []
    },
    "kernelspec": {
      "name": "python3",
      "display_name": "Python 3"
    },
    "language_info": {
      "name": "python"
    },
    "accelerator": "GPU",
    "gpuClass": "standard"
  },
  "cells": [
    {
      "cell_type": "code",
      "execution_count": 1,
      "metadata": {
        "id": "4b0N9jR87_Do",
        "colab": {
          "base_uri": "https://localhost:8080/"
        },
        "outputId": "7a380bd1-ec90-4d13-b9b9-8d8c8cc45943"
      },
      "outputs": [
        {
          "output_type": "stream",
          "name": "stdout",
          "text": [
            "Mounted at /content/drive\n"
          ]
        }
      ],
      "source": [
        "from google.colab import drive\n",
        "drive.mount('/content/drive')"
      ]
    },
    {
      "cell_type": "code",
      "source": [
        "import os\n",
        "os.chdir(\"/content/drive/MyDrive/Diplomatic2/Implementation\")\n",
        "!ls"
      ],
      "metadata": {
        "colab": {
          "base_uri": "https://localhost:8080/"
        },
        "id": "B4akLUxvvfg4",
        "outputId": "a9c39ef6-b023-4c87-e11b-8834a8f6266f"
      },
      "execution_count": 2,
      "outputs": [
        {
          "output_type": "stream",
          "name": "stdout",
          "text": [
            " data_balanced_1000.obj     elliptic_txs_edgelist.csv   GRL.ipynb\n",
            " data_balanced_500.obj\t    elliptic_txs_features.csv   NoteBooks\n",
            " data.obj\t\t    GRL_2.ipynb\n",
            " elliptic_txs_classes.csv  'GRL_FINAL (4).ipynb'\n"
          ]
        }
      ]
    },
    {
      "cell_type": "code",
      "source": [
        "#PYTORCH INSTALL\n",
        "# Add this in a Google Colab cell to install the correct version of Pytorch Geometric.\n",
        "import torch\n",
        "\n",
        "def format_pytorch_version(version):\n",
        "  return version.split('+')[0]\n",
        "\n",
        "TORCH_version = torch.__version__\n",
        "TORCH = format_pytorch_version(TORCH_version)\n",
        "\n",
        "def format_cuda_version(version):\n",
        "  return 'cu' + version.replace('.', '')\n",
        "\n",
        "CUDA_version = torch.version.cuda\n",
        "CUDA = format_cuda_version(CUDA_version)\n",
        "\n",
        "!pip install torch-scatter     -f https://pytorch-geometric.com/whl/torch-{TORCH}+{CUDA}.html\n",
        "!pip install torch-sparse      -f https://pytorch-geometric.com/whl/torch-{TORCH}+{CUDA}.html\n",
        "!pip install torch-cluster     -f https://pytorch-geometric.com/whl/torch-{TORCH}+{CUDA}.html\n",
        "!pip install torch-spline-conv -f https://pytorch-geometric.com/whl/torch-{TORCH}+{CUDA}.html\n",
        "!pip install torch-geometric"
      ],
      "metadata": {
        "id": "a-SgCE9Lvh97"
      },
      "execution_count": null,
      "outputs": []
    },
    {
      "cell_type": "code",
      "source": [
        "import pickle   \n",
        "import torch\n",
        "from torch_geometric.data import Data\n",
        "\n",
        "fileObj = open('data.obj', 'rb')\n",
        "data3 = pickle.load(fileObj)\n",
        "fileObj.close()\n",
        "print(data3)"
      ],
      "metadata": {
        "colab": {
          "base_uri": "https://localhost:8080/"
        },
        "id": "itFprbRnviF8",
        "outputId": "8cac7caa-6829-4f5b-8868-df497deb2965"
      },
      "execution_count": 4,
      "outputs": [
        {
          "output_type": "stream",
          "name": "stdout",
          "text": [
            "Data(x=[203769, 165], edge_index=[2, 234355], y=[203769], n_id=[203769], train_mask=[203769], val_mask=[203769], test_mask=[203769])\n"
          ]
        }
      ]
    },
    {
      "cell_type": "code",
      "source": [
        "#USE GPU\n",
        "device = torch.device('cuda' if torch.cuda.is_available() else 'cpu')\n",
        "print(device)"
      ],
      "metadata": {
        "colab": {
          "base_uri": "https://localhost:8080/"
        },
        "id": "AomB8PlMwFjb",
        "outputId": "a30cf81c-378f-42af-9770-53437be77311"
      },
      "execution_count": 5,
      "outputs": [
        {
          "output_type": "stream",
          "name": "stdout",
          "text": [
            "cuda\n"
          ]
        }
      ]
    },
    {
      "cell_type": "code",
      "source": [
        "#EDW NA DW ALLES PERIPTWSEIS GIA BATCHES!!!\n",
        "#Epishs na dw th lista me tous geitones\n",
        "from torch_geometric.loader import NeighborLoader\n",
        "\n",
        "train_loader = NeighborLoader(data3,num_neighbors=[-1, -1], shuffle=True,batch_size=203769)\n",
        "\n",
        "counter = 0\n",
        "for batch in train_loader:\n",
        "\n",
        "    print(len(batch.n_id))\n",
        "    print(len(batch.y))\n",
        "    print(type(batch))\n",
        "    print(batch.test_mask)"
      ],
      "metadata": {
        "id": "cNPDZfaQwNf2",
        "colab": {
          "base_uri": "https://localhost:8080/"
        },
        "outputId": "cba1a2d4-a172-4e18-9eff-3d2cd5da9179"
      },
      "execution_count": 6,
      "outputs": [
        {
          "output_type": "stream",
          "name": "stdout",
          "text": [
            "203769\n",
            "203769\n",
            "<class 'torch_geometric.data.data.Data'>\n",
            "tensor([False,  True, False,  ..., False, False, False])\n"
          ]
        }
      ]
    },
    {
      "cell_type": "code",
      "source": [
        "#SCRIPT 16\n",
        "#METRICS\n",
        "!pip install torchmetrics\n",
        "from torchmetrics.classification import AUROC\n",
        "from torchmetrics.classification import BinaryPrecision\n",
        "from torchmetrics.classification import BinaryRecall\n",
        "from torchmetrics.classification import BinaryConfusionMatrix\n",
        "from torchmetrics.classification import MulticlassRecall\n",
        "from torchmetrics.classification import MulticlassPrecision\n",
        "from torchmetrics.classification import MulticlassAUROC\n",
        "\n",
        "\n",
        "\n",
        "def conf_matrix(pred_y, y):\n",
        "  confmat = BinaryConfusionMatrix().to(device)\n",
        "\n",
        "  return confmat(pred_y, y)\n",
        "\n",
        "def brecall(pred_y, y):\n",
        "  #recall = BinaryRecall().to(device)\n",
        "  recall = MulticlassRecall(num_classes=2, average=None).to(device)\n",
        "\n",
        "  return recall(pred_y, y)\n",
        "\n",
        "def bprecision(pred_y, y):\n",
        "  precision = MulticlassPrecision(num_classes=2, average=None).to(device)\n",
        "\n",
        "  return precision(pred_y, y)\n",
        "\n",
        "def auc_roc(pred_y, y):\n",
        "  aucroc = AUROC(task=\"binary\")\n",
        "  print(pred_y.shape)\n",
        "  print(y.shape)\n",
        "  #aucroc = MulticlassAUROC(num_classes=2, average=None, thresholds=None).to(device)\n",
        "\n",
        "  return aucroc(pred_y, y)\n",
        "\n",
        "def accuracy(pred_y, y):\n",
        "    \"\"\"Calculate accuracy.\"\"\"\n",
        "    return ((pred_y == y).sum() / len(y)).item() \n"
      ],
      "metadata": {
        "id": "zT8dHr6d4Gci"
      },
      "execution_count": null,
      "outputs": []
    },
    {
      "cell_type": "code",
      "source": [
        "def train(model,loader,epochs):\n",
        "    criterion = torch.nn.CrossEntropyLoss()\n",
        "    optimizer = model.optimizer\n",
        "\n",
        "    train_loss_total = []\n",
        "    val_loss_total = []\n",
        "    best_model = model\n",
        "    best_val_loss = 1000.0\n",
        "\n",
        "    model.train()\n",
        "    for epoch in range(epochs+1):\n",
        "      total_loss = 0\n",
        "      acc = 0\n",
        "      val_loss = 0\n",
        "      val_acc = 0\n",
        "      auc_roc_train = 0\n",
        "      auc_roc_val = 0 \n",
        "      pre_train = 0 \n",
        "      pre_val = 0\n",
        "      recall_train = 0\n",
        "      recall_val = 0\n",
        " \n",
        "      # Train on batches\n",
        "      for batch in loader:\n",
        "        optimizer.zero_grad()\n",
        "        \n",
        "        _, out = model(batch.x, batch.edge_index)\n",
        "        loss = criterion(out[batch.train_mask], batch.y[batch.train_mask])\n",
        "        total_loss += loss\n",
        "\n",
        "        acc += accuracy(out[batch.train_mask].argmax(dim=1), batch.y[batch.train_mask])\n",
        "        auc_roc_train += auc_roc(out[batch.train_mask].argmax(dim=1), batch.y[batch.train_mask])\n",
        "        pre_train += bprecision(out[batch.train_mask].argmax(dim=1), batch.y[batch.train_mask])\n",
        "        recall_train += brecall(out[batch.train_mask].argmax(dim=1), batch.y[batch.train_mask])\n",
        "        conf_matrix_train = conf_matrix(out[batch.train_mask].argmax(dim=1), batch.y[batch.train_mask])\n",
        "        print(conf_matrix_train)\n",
        "        loss.backward()\n",
        "        optimizer.step()\n",
        "\n",
        "        # Validation\n",
        "        val_loss += criterion(out[batch.val_mask], batch.y[batch.val_mask])\n",
        "\n",
        "        val_acc += accuracy(out[batch.val_mask].argmax(dim=1), batch.y[batch.val_mask])\n",
        "        auc_roc_val += auc_roc(out[batch.val_mask].argmax(dim=1), batch.y[batch.val_mask])\n",
        "        pre_val += bprecision(out[batch.val_mask].argmax(dim=1), batch.y[batch.val_mask])\n",
        "        recall_val += brecall(out[batch.val_mask].argmax(dim=1), batch.y[batch.val_mask])\n",
        "        conf_matrix_val = conf_matrix(out[batch.val_mask].argmax(dim=1), batch.y[batch.val_mask])\n",
        "        print(conf_matrix_val)\n",
        "\n",
        "        print(\"Train accuracy = \", acc/len(train_loader), \"Val accuracy = \", val_acc/len(train_loader))\n",
        "        print(\"AUC ROC SCORE TRAIN = \",auc_roc_train/len(train_loader),\"AUC ROC SCORE VAL = \", auc_roc_val/len(train_loader))\n",
        "        print(\"precision SCORE TRAIN = \",pre_train/len(train_loader),\"precision SCORE VAL = \", pre_val/len(train_loader))\n",
        "        print(\"RECALL SCORE TRAIN = \",recall_train/len(train_loader),\"RECALL SCORE VAL = \", recall_val/len(train_loader))\n",
        "\n",
        "      if(val_loss < best_val_loss):\n",
        "        best_val_loss = val_loss\n",
        "        best_model = model\n",
        "        print(\"NEW BEST\")\n",
        "      train_loss_total.append(total_loss)\n",
        "      val_loss_total.append(val_loss)\n",
        "      \n",
        "    return best_model, train_loss_total, val_loss_total\n",
        "\n",
        "def test(model, data):\n",
        "    \"\"\"Evaluate the model on test set and print the accuracy score.\"\"\"\n",
        "    model.eval()\n",
        "    _, out = model(data.x, data.edge_index)\n",
        "    acc = accuracy(out.argmax(dim=1)[data.test_mask], data.y[data.test_mask])\n",
        "    auc_roc_acc = auc_roc(out.argmax(dim=1)[data.test_mask], data.y[data.test_mask])\n",
        "    precision_score = bprecision(out.argmax(dim=1)[data.test_mask], data.y[data.test_mask])\n",
        "    recall_score = brecall(out.argmax(dim=1)[data.test_mask], data.y[data.test_mask])\n",
        "    conf_mat = conf_matrix(out.argmax(dim=1)[data.test_mask], data.y[data.test_mask])\n",
        "\n",
        "    return acc, auc_roc_acc, precision_score, recall_score, conf_mat\n",
        "\n",
        "\n"
      ],
      "metadata": {
        "id": "qQmOAnmu4SVw"
      },
      "execution_count": 20,
      "outputs": []
    },
    {
      "cell_type": "code",
      "source": [
        "#TRAIN FUNC 2 WITH WEIGTHS\n",
        "weights = [4.0, 1.0]\n",
        "class_weights = torch.FloatTensor(weights).to(device)\n",
        "\n",
        "def train2(model, data, epochs,wei):\n",
        "    criterion = torch.nn.CrossEntropyLoss(weight=wei)\n",
        "    optimizer = model.optimizer\n",
        "    \n",
        "\n",
        "    model.train()\n",
        "\n",
        "    train_loss_total = []\n",
        "    val_loss_total = []\n",
        "    best_model = model\n",
        "    best_val_loss = 1000.0\n",
        "    \n",
        "    for epoch in range(epochs+1):\n",
        "      total_loss = 0\n",
        "      acc = 0\n",
        "      val_loss = 0\n",
        "      val_acc = 0\n",
        "      auc_roc_train = 0\n",
        "      auc_roc_val = 0 \n",
        "      pre_train = 0 \n",
        "      pre_val = 0\n",
        "      recall_train = 0\n",
        "      recall_val = 0\n",
        " \n",
        "      # Train on batches\n",
        "      \n",
        "      optimizer.zero_grad()\n",
        "        \n",
        "      _, out = model(data.x, data.edge_index)\n",
        "      loss = criterion(out[data.train_mask], data.y[data.train_mask])\n",
        "      total_loss += loss\n",
        "\n",
        "      acc += accuracy(out[data.train_mask].argmax(dim=1), data.y[data.train_mask])\n",
        "      auc_roc_train += auc_roc(out[data.train_mask].argmax(dim=1), data.y[data.train_mask])\n",
        "      pre_train += bprecision(out[data.train_mask].argmax(dim=1), data.y[data.train_mask])\n",
        "      recall_train += brecall(out[data.train_mask].argmax(dim=1), data.y[data.train_mask])\n",
        "      conf_matrix_train = conf_matrix(out[data.train_mask].argmax(dim=1), data.y[data.train_mask])\n",
        "      print(conf_matrix_train)\n",
        "      loss.backward()\n",
        "      optimizer.step()\n",
        "\n",
        "        # Validation\n",
        "      val_loss += criterion(out[data.val_mask], data.y[data.val_mask])\n",
        "\n",
        "      val_acc += accuracy(out[data.val_mask].argmax(dim=1), data.y[data.val_mask])\n",
        "      auc_roc_val += auc_roc(out[data.val_mask].argmax(dim=1), data.y[data.val_mask])\n",
        "      pre_val += bprecision(out[data.val_mask].argmax(dim=1), data.y[data.val_mask])\n",
        "      recall_val += brecall(out[data.val_mask].argmax(dim=1), data.y[data.val_mask])\n",
        "      conf_matrix_val = conf_matrix(out[data.val_mask].argmax(dim=1), data.y[data.val_mask])\n",
        "      print(conf_matrix_val)\n",
        "\n",
        "      print(\"Train accuracy = \", acc, \"Val accuracy = \", val_acc)\n",
        "      print(\"AUC ROC SCORE TRAIN = \",auc_roc_train,\"AUC ROC SCORE VAL = \", auc_roc_val)\n",
        "      print(\"precision SCORE TRAIN = \",pre_train,\"precision SCORE VAL = \", pre_val)\n",
        "      print(\"RECALL SCORE TRAIN = \",recall_train,\"RECALL SCORE VAL = \", recall_val)\n",
        "\n",
        "    if(val_loss < best_val_loss):\n",
        "      best_val_loss = val_loss\n",
        "      best_model = model\n",
        "      print(\"NEW BEST\")\n",
        "    train_loss_total.append(total_loss)\n",
        "    val_loss_total.append(val_loss)  \n",
        "\n",
        "    return best_model, train_loss_total, val_loss_total  "
      ],
      "metadata": {
        "id": "m1NbMkyG6WxD"
      },
      "execution_count": 22,
      "outputs": []
    },
    {
      "cell_type": "code",
      "source": [
        "import numpy as np\n",
        "import pandas as pd\n",
        "import os\n",
        "import torch_geometric.transforms as T\n",
        "from torch_geometric.datasets import Planetoid\n",
        "import matplotlib.pyplot as plt\n",
        "import torch\n",
        "import torch.nn.functional as F\n",
        "from torch_geometric.nn import GCNConv\n",
        "import torch_geometric\n",
        "from torch.nn import Parameter\n",
        "from torch_geometric.utils.convert import to_networkx\n",
        "import networkx as nx\n",
        "import urllib.request\n",
        "import tarfile\n",
        "from torch_geometric.nn import GraphSAGE\n",
        "from torch_geometric.nn import SAGEConv\n",
        "from torch_geometric.nn import GATConv\n",
        "from torch_geometric.nn import AGNNConv\n",
        "from torch_geometric.loader import NeighborLoader\n",
        "from torch_geometric.utils import to_networkx\n",
        "#HYPER PARAMETERS DICTIONARYS\n",
        "#FOR GAT\n",
        "hp_params_GAT = []\n",
        "one = {\"layers\": 2, \"loader\": 1, \"emb_size\": 64, \"heads\":8}#THIS IS FROM\n",
        "two = {\"layers\": 2, \"loader\": 0, \"emb_size\": 64, \"heads\":4}\n",
        "three = {\"layers\": 2, \"loader\": 0, \"emb_size\": 64, \"heads\":8}\n",
        "four = {\"layers\": 2, \"loader\": 1, \"emb_size\": 128, \"heads\":8}\n",
        "five = {\"layers\": 3, \"loader\": 1, \"emb_size\": 64, \"heads\":8}\n",
        "hp_params_GAT.append(one)\n",
        "hp_params_GAT.append(two)\n",
        "hp_params_GAT.append(three)\n",
        "hp_params_GAT.append(four)\n",
        "hp_params_GAT.append(five)\n",
        "\n",
        "class GATmodel(torch.nn.Module):\n",
        "    def __init__(self,layers,emb_size,head_num):\n",
        "        super(GATmodel, self).__init__()\n",
        "        self.hid = emb_size\n",
        "        self.in_head = head_num\n",
        "        self.out_head = 1\n",
        "        self.layers = layers\n",
        "        \n",
        "        if self.layers == 3:\n",
        "          self.conv1 = GATConv(165, self.hid, heads=self.in_head, dropout=0.6)\n",
        "          self.conv = GATConv(self.hid*self.in_head, self.hid, heads=self.in_head, dropout=0.6)\n",
        "          self.conv2 = GATConv(self.hid*self.in_head, 2, concat=False, heads=self.out_head, dropout=0.6)\n",
        "          self.optimizer = torch.optim.Adam(self.parameters(), lr=0.005, weight_decay=5e-4)\n",
        "        else:\n",
        "          self.conv1 = GATConv(165, self.hid, heads=self.in_head, dropout=0.6)\n",
        "          self.conv2 = GATConv(self.hid*self.in_head, 2, concat=False, heads=self.out_head, dropout=0.6)\n",
        "          self.optimizer = torch.optim.Adam(self.parameters(), lr=0.005, weight_decay=5e-4)  \n",
        "          \n",
        "\n",
        "    def forward(self,x, edge_index):\n",
        "        \n",
        "        # Dropout before the GAT layer is used to avoid overfitting\n",
        "\n",
        "        if self.layers == 3:\n",
        "\n",
        "          x = F.dropout(x, p=0.6, training=self.training)\n",
        "          x = self.conv1(x, edge_index)\n",
        "          x = F.elu(x)\n",
        "          x = F.dropout(x, p=0.6, training=self.training)\n",
        "          x = self.conv(x, edge_index)\n",
        "          x = F.elu(x)\n",
        "          x = F.dropout(x, p=0.6, training=self.training)\n",
        "          x = self.conv2(x, edge_index)\n",
        "        else:\n",
        "          x = F.dropout(x, p=0.6, training=self.training)\n",
        "          x = self.conv1(x, edge_index)\n",
        "          x = F.elu(x)\n",
        "          x = F.dropout(x, p=0.6, training=self.training)\n",
        "          x = self.conv2(x, edge_index)\n",
        "            \n",
        "        return x,F.log_softmax(x, dim=1)    \n"
      ],
      "metadata": {
        "id": "7h0QrzZg4qdO"
      },
      "execution_count": 10,
      "outputs": []
    },
    {
      "cell_type": "code",
      "source": [
        "gat_model3 = GATmodel(2,8,8).to(device)\n",
        "data3 = data3.to(device)\n",
        "print(gat_model3)\n",
        "\n",
        "best, trai_lo, val_lo = train(gat_model3,train_loader,200)"
      ],
      "metadata": {
        "id": "TiZyla-K6Eli"
      },
      "execution_count": null,
      "outputs": []
    },
    {
      "cell_type": "code",
      "source": [
        "print(len(val_lo))"
      ],
      "metadata": {
        "colab": {
          "base_uri": "https://localhost:8080/"
        },
        "id": "JK6v20V6Pl7g",
        "outputId": "bdd63375-5da1-49e6-fc64-aa8ce6fd75da"
      },
      "execution_count": 17,
      "outputs": [
        {
          "output_type": "stream",
          "name": "stdout",
          "text": [
            "201\n"
          ]
        }
      ]
    },
    {
      "cell_type": "code",
      "source": [
        "#TEST SET FOR GAT\n",
        "#APO OTI FENETAI MA8AINEI NA DIALEGEI PANTA THN MAJORITY CLASS ISWS POLLA HEADS\n",
        "acc_GAT, auc_roc_acc_GAT, precision_score_GAT, recall_score_GAT, conf_mat_GAT = test(best,data3)\n",
        "\n",
        "print(acc_GAT)\n",
        "print(auc_roc_acc_GAT)\n",
        "print(precision_score_GAT)\n",
        "print(recall_score_GAT)\n",
        "print(conf_mat_GAT)"
      ],
      "metadata": {
        "colab": {
          "base_uri": "https://localhost:8080/"
        },
        "id": "FU7wa1XC8NTb",
        "outputId": "49a39c0d-b2bb-4a6c-bfbd-7a7d699532dc"
      },
      "execution_count": 12,
      "outputs": [
        {
          "output_type": "stream",
          "name": "stdout",
          "text": [
            "torch.Size([29064])\n",
            "torch.Size([29064])\n",
            "0.9124345779418945\n",
            "tensor(0.5000, device='cuda:0')\n",
            "tensor([0.0000, 0.9124], device='cuda:0')\n",
            "tensor([0., 1.], device='cuda:0')\n",
            "tensor([[    0,  2545],\n",
            "        [    0, 26519]], device='cuda:0')\n"
          ]
        }
      ]
    },
    {
      "cell_type": "code",
      "source": [
        "gat_model7 = GATmodel(2,8,8).to(device)\n",
        "data3 = data3.to(device)\n",
        "print(gat_model7)\n",
        "\n",
        "best, val, trainl = train2(gat_model7,data3,200,class_weights)"
      ],
      "metadata": {
        "id": "WBsNZtx18kzN"
      },
      "execution_count": null,
      "outputs": []
    },
    {
      "cell_type": "code",
      "source": [
        "import os\n",
        "a = os.path.isdir('GAT')\n",
        "print(a)\n",
        "os.mkdir(\"GAT\")\n",
        "a = os.path.isdir('GAT')\n",
        "print(a)"
      ],
      "metadata": {
        "colab": {
          "base_uri": "https://localhost:8080/"
        },
        "id": "MWCx7y_jM1jG",
        "outputId": "92620f57-f122-45fe-ca3d-04477b11f6f2"
      },
      "execution_count": 26,
      "outputs": [
        {
          "output_type": "stream",
          "name": "stdout",
          "text": [
            "False\n",
            "True\n"
          ]
        }
      ]
    },
    {
      "cell_type": "code",
      "source": [
        "import torch\n",
        "val2 = torch.stack(trai_lo).cpu().detach().numpy()\n",
        "train2 = torch.stack(val_lo).cpu().detach().numpy()\n",
        "fig, ax = plt.subplots(2)\n",
        "\n",
        "ax[0].set_ylabel('Loss')\n",
        "ax[1].set_ylabel('Accuracy')\n",
        "\n",
        "ax[0].plot(val2, color='red') \n",
        "ax[0].plot(train2, color='blue') \n",
        "\n",
        "#ax[1].plot(history.history['accuracy'], color='red') \n",
        "#ax[1].plot(history.history['val_accuracy'], color='blue') \n",
        "\n",
        "filename2 = 'train_history'+str(arch)+'.png'\n",
        "fig.savefig(filename2)\n",
        "plt.show()"
      ],
      "metadata": {
        "colab": {
          "base_uri": "https://localhost:8080/",
          "height": 483
        },
        "id": "E4LmYOvZHQU3",
        "outputId": "505a7c48-50f2-44a2-a29a-908ae2eda47a"
      },
      "execution_count": 19,
      "outputs": [
        {
          "output_type": "error",
          "ename": "NameError",
          "evalue": "ignored",
          "traceback": [
            "\u001b[0;31m---------------------------------------------------------------------------\u001b[0m",
            "\u001b[0;31mNameError\u001b[0m                                 Traceback (most recent call last)",
            "\u001b[0;32m<ipython-input-19-06e4c3b819eb>\u001b[0m in \u001b[0;36m<module>\u001b[0;34m\u001b[0m\n\u001b[1;32m     13\u001b[0m \u001b[0;31m#ax[1].plot(history.history['val_accuracy'], color='blue')\u001b[0m\u001b[0;34m\u001b[0m\u001b[0;34m\u001b[0m\u001b[0;34m\u001b[0m\u001b[0m\n\u001b[1;32m     14\u001b[0m \u001b[0;34m\u001b[0m\u001b[0m\n\u001b[0;32m---> 15\u001b[0;31m \u001b[0mfilename2\u001b[0m \u001b[0;34m=\u001b[0m \u001b[0;34m'train_history'\u001b[0m\u001b[0;34m+\u001b[0m\u001b[0mstr\u001b[0m\u001b[0;34m(\u001b[0m\u001b[0march\u001b[0m\u001b[0;34m)\u001b[0m\u001b[0;34m+\u001b[0m\u001b[0;34m'.png'\u001b[0m\u001b[0;34m\u001b[0m\u001b[0;34m\u001b[0m\u001b[0m\n\u001b[0m\u001b[1;32m     16\u001b[0m \u001b[0mfig\u001b[0m\u001b[0;34m.\u001b[0m\u001b[0msavefig\u001b[0m\u001b[0;34m(\u001b[0m\u001b[0mfilename2\u001b[0m\u001b[0;34m)\u001b[0m\u001b[0;34m\u001b[0m\u001b[0;34m\u001b[0m\u001b[0m\n\u001b[1;32m     17\u001b[0m \u001b[0mplt\u001b[0m\u001b[0;34m.\u001b[0m\u001b[0mshow\u001b[0m\u001b[0;34m(\u001b[0m\u001b[0;34m)\u001b[0m\u001b[0;34m\u001b[0m\u001b[0;34m\u001b[0m\u001b[0m\n",
            "\u001b[0;31mNameError\u001b[0m: name 'arch' is not defined"
          ]
        },
        {
          "output_type": "display_data",
          "data": {
            "text/plain": [
              "<Figure size 432x288 with 2 Axes>"
            ],
            "image/png": "[encoded data removed]"
          },
          "metadata": {
            "needs_background": "light"
          }
        }
      ]
    },
    {
      "cell_type": "code",
      "source": [
        "#TEST SET FOR GAT\n",
        "#APO OTI FENETAI MA8AINEI NA DIALEGEI PANTA THN MAJORITY CLASS ISWS POLLA HEADS\n",
        "acc_GAT, auc_roc_acc_GAT, precision_score_GAT, recall_score_GAT, conf_mat_GAT = test(best,data3)\n",
        "\n",
        "print(acc_GAT)\n",
        "print(auc_roc_acc_GAT)\n",
        "print(precision_score_GAT)\n",
        "print(recall_score_GAT)\n",
        "print(conf_mat_GAT)"
      ],
      "metadata": {
        "id": "yl7SAGBp-Dme"
      },
      "execution_count": null,
      "outputs": []
    },
    {
      "cell_type": "code",
      "source": [
        "import itertools\n",
        "\n",
        "layers = [2,3]\n",
        "embe = [64,128]\n",
        "loader = [0,1]\n",
        "heads = [4,8]\n",
        "counter = 0\n",
        "for xs in itertools.product(layers, embe, loader, heads):\n",
        "  counter = counter +1\n",
        "  print(xs)\n",
        "print(counter)"
      ],
      "metadata": {
        "id": "z04lG-CxDTQi"
      },
      "execution_count": null,
      "outputs": []
    }
  ]
}